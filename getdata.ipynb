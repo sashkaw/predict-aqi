{
 "cells": [
  {
   "cell_type": "code",
   "execution_count": null,
   "metadata": {},
   "outputs": [],
   "source": [
    "# Imports\n",
    "import requests\n",
    "from dotenv import load_dotenv\n",
    "import numpy as np\n",
    "import pandas as pd\n",
    "\n",
    " # PM2.5 - Local Conditions: 88101\n",
    " # PM10 Total 0-10um STP: 81102\n",
    " # Nitrogen dioxide (NO2): 42602\n",
    " # Sulfur dioxide: 42401\n",
    " # Ozone: 44201\n",
    " # Each API request for a given parameter also contains AQI data\n",
    " # See https://aqs.epa.gov/aqsweb/documents/codetables/methods_criteria.html\n",
    "\n",
    "# Define constants\n",
    "\"\"\"QUERY_PARAMS = {\n",
    "    \"email\": \"x\", \n",
    "    \"key\": \"x\", \n",
    "    \"param\": [88101]\n",
    "    \"bdate\", \n",
    "    \"edate\", \n",
    "    \"state\", \n",
    "    \"county\"\n",
    "    }\"\"\""
   ]
  }
 ],
 "metadata": {
  "kernelspec": {
   "display_name": "Python 3.9.7 ('venv': venv)",
   "language": "python",
   "name": "python3"
  },
  "language_info": {
   "name": "python",
   "version": "3.9.7"
  },
  "orig_nbformat": 4,
  "vscode": {
   "interpreter": {
    "hash": "355baf89ccd0b6094ca3f814d98fac998765e71d6244f3e3163900d5f775c850"
   }
  }
 },
 "nbformat": 4,
 "nbformat_minor": 2
}
