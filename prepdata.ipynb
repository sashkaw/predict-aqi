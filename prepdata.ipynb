{
 "cells": [
  {
   "cell_type": "code",
   "execution_count": 1,
   "metadata": {},
   "outputs": [],
   "source": [
    "# Imports\n",
    "from datetime import datetime\n",
    "import numpy as np\n",
    "import pandas as pd"
   ]
  },
  {
   "cell_type": "code",
   "execution_count": 2,
   "metadata": {},
   "outputs": [],
   "source": [
    "# Define constants\n",
    "\n",
    "# See https://aqs.epa.gov/aqsweb/documents/codetables/states_and_counties.html\n",
    "STATE_CODE = 41 # Oregon\n",
    "COUNTY_CODE = 39 # Lane County, OR\n",
    "\n",
    "# Data source: https://aqs.epa.gov/aqsweb/airdata/download_files.html\n",
    "# PM2.5 - Local Conditions: 88101\n",
    "# PM10 Total 0-10um STP: 81102\n",
    "# Nitrogen dioxide (NO2): 42602\n",
    "# Sulfur dioxide: 42401\n",
    "# Ozone: 44201\n",
    "# See https://aqs.epa.gov/aqsweb/documents/codetables/methods_criteria.html\n"
   ]
  },
  {
   "cell_type": "code",
   "execution_count": 3,
   "metadata": {},
   "outputs": [
    {
     "name": "stderr",
     "output_type": "stream",
     "text": [
      "/var/folders/bx/8_p36bpd14nckr66rq2kk6kc0000gn/T/ipykernel_15083/1768561378.py:3: DtypeWarning: Columns (27) have mixed types. Specify dtype option on import or set low_memory=False.\n",
      "  PM_2pt5 = pd.read_csv(\"input_data/daily_88101_2022.csv\")\n"
     ]
    }
   ],
   "source": [
    "# Load data\n",
    "county_aqi = pd.read_csv(\"input_data/daily_aqi_by_county_2022.csv\")\n",
    "PM_2pt5 = pd.read_csv(\"input_data/daily_88101_2022.csv\")\n",
    "PM_10 = pd.read_csv(\"input_data/daily_81102_2022.csv\")\n",
    "NO2 = pd.read_csv(\"input_data/daily_42602_2022.csv\")\n",
    "SO2 = pd.read_csv(\"input_data/daily_42401_2022.csv\")\n",
    "O3 = pd.read_csv(\"input_data/daily_44201_2022.csv\")\n",
    "\n",
    "# Create list of data\n",
    "data_list = [PM_2pt5, PM_10, NO2, SO2, O3]\n",
    "suffix_list = [\"PM_2pt5\", \"PM_10\", \"NO2\", \"SO2\", \"O3\"]"
   ]
  },
  {
   "cell_type": "code",
   "execution_count": 4,
   "metadata": {},
   "outputs": [],
   "source": [
    "# Filter state and county for AQI dataset\n",
    "county_aqi_query = county_aqi.query(f\"`State Code` == {STATE_CODE} and `County Code` == {COUNTY_CODE}\")\n",
    "\n",
    "#COL_NAMES = [\"Site Num\", \"Parameter Code\", \"Latitude\", \"Longitude\", \"Datum\", \"Parameter Name\", \"Date Local\", \"Units of Measure\", \"Arithmetic Mean\"]\n",
    "COL_NAMES = [\"Address\", \"Parameter Name\", \"Date Local\", \"Units of Measure\", \"Arithmetic Mean\"]\n",
    "\n",
    "def filter_df(df):\n",
    "    # Filter data for the state and county of interest\n",
    "    filter_location = df.query(f\"`State Code` == {STATE_CODE} and `County Code` == {COUNTY_CODE} and `Sample Duration` == '24-HR BLK AVG'\")\n",
    "    # Select columns of interest\n",
    "    filter_columns = filter_location.loc[:, COL_NAMES]\n",
    "    \n",
    "    return filter_columns\n",
    "\n",
    "# Concatenate filtered data frames\n",
    "filtered_concat = pd.concat(list(map(filter_df, data_list)))\n",
    "\n",
    "# Join filtered data to AQI data\n",
    "county_aqi_query = county_aqi_query.merge(right=filtered_concat, left_on=\"Date\", right_on=\"Date Local\", suffixes = (\"\", \"_params\"))\n",
    "\n"
   ]
  },
  {
   "cell_type": "code",
   "execution_count": 80,
   "metadata": {},
   "outputs": [],
   "source": [
    "# Check output concatenated data\n",
    "#filtered_concat[filtered_concat[\"Parameter Name\"] == \"PM2.5 - Local Conditions\"]\n",
    "#county_aqi.head()\n",
    "\n",
    "# Reshape data to get multiple parameters for each address and date\n",
    "aqi_pivot = county_aqi_query.pivot(index=[\"Date\", \"Address\"], columns=\"Parameter Name\", values=[\"AQI\", \"Arithmetic Mean\"])\n",
    "# Remove rows with null values\n",
    "aqi_clean = aqi_pivot.dropna()\n",
    "#aqi_clean.columns.to_flat_index()\n",
    "aqi_clean = aqi_clean.droplevel(level=0, axis=1)\n",
    "# Rename columns\n",
    "#aqi_clean.columns\n",
    "aqi_clean.columns = [\"AQI\", \"AQI1\", \"PM10\", \"PM2.5\"]\n",
    "# Get data rows\n",
    "aqi_clean = aqi_clean.iloc[2:,0:]\n",
    "# Flatten multi-index columns\n",
    "#aqi_clean.columns = aqi_clean.columns.map('_'.join)\n",
    "# Drop duplicate AQI column\n",
    "aqi_clean.drop(columns=[\"AQI1\"], inplace=True)\n",
    "\n"
   ]
  },
  {
   "cell_type": "code",
   "execution_count": 81,
   "metadata": {},
   "outputs": [],
   "source": [
    "# Save data to csv\n",
    "aqi_clean.to_csv(\"clean_data/aqi.csv\")"
   ]
  },
  {
   "cell_type": "code",
   "execution_count": null,
   "metadata": {},
   "outputs": [],
   "source": []
  }
 ],
 "metadata": {
  "kernelspec": {
   "display_name": "Python 3.9.7 ('venv': venv)",
   "language": "python",
   "name": "python3"
  },
  "language_info": {
   "codemirror_mode": {
    "name": "ipython",
    "version": 3
   },
   "file_extension": ".py",
   "mimetype": "text/x-python",
   "name": "python",
   "nbconvert_exporter": "python",
   "pygments_lexer": "ipython3",
   "version": "3.9.7"
  },
  "orig_nbformat": 4,
  "vscode": {
   "interpreter": {
    "hash": "355baf89ccd0b6094ca3f814d98fac998765e71d6244f3e3163900d5f775c850"
   }
  }
 },
 "nbformat": 4,
 "nbformat_minor": 2
}
